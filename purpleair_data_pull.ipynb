{
 "cells": [
  {
   "cell_type": "code",
   "execution_count": 1,
   "id": "ddb9d500",
   "metadata": {},
   "outputs": [],
   "source": [
    "import requests\n",
    "from datetime import datetime\n",
    "import io\n",
    "import pandas as pd"
   ]
  },
  {
   "cell_type": "code",
   "execution_count": 2,
   "id": "3e092e54",
   "metadata": {},
   "outputs": [],
   "source": [
    "# api-endpoint\n",
    "sensor_id = 90651 #sensor-index\n",
    "sensor_name = 'Orkhon_01'\n",
    "year = 2022\n",
    "\n",
    "URL = f\"https://api.purpleair.com/v1/sensors/{sensor_id}/history/csv\"\n",
    "  \n",
    "XAPI = '' #API from the orgnization\n",
    "\n",
    "start_time = '01-01-2022'\n",
    "end_time = '12-31-2022'\n",
    "average = '1440' #mins\n",
    "\n",
    "fields = ','.join(['pm2.5_atm','pm2.5_cf_1']) #returns average for channel A and B but excluding downgraded channels and using CF=1 variant for indoor, ATM variant for outdoor devices.\n",
    "begindate = datetime.strptime(start_time, '%m-%d-%Y')\n",
    "enddate   = datetime.strptime(end_time, '%m-%d-%Y')\n",
    "\n",
    "begindate = datetime.timestamp(begindate)\n",
    "enddate = datetime.timestamp(enddate)\n",
    "\n",
    "# defining a params dict for the parameters to be sent to the API\n",
    "PARAMS = {'start_timestamp':begindate, 'end_timestamp':enddate, 'average':average, 'fields':fields}\n",
    "HEADER = {'X-API-Key':XAPI}  \n",
    "# sending get request and saving the response as response object\n",
    "r = requests.get(url = URL, params = PARAMS, headers = HEADER) \n",
    "# extracting data\n",
    "rawData = pd.read_csv(io.StringIO(r.content.decode('utf-8')))"
   ]
  },
  {
   "cell_type": "code",
   "execution_count": 3,
   "id": "a8776f86-7e8c-4348-b164-cc32e215a401",
   "metadata": {},
   "outputs": [],
   "source": [
    "def tstodt(ts):\n",
    "    return datetime.fromtimestamp(ts)"
   ]
  },
  {
   "cell_type": "code",
   "execution_count": 4,
   "id": "b119fd1e",
   "metadata": {},
   "outputs": [],
   "source": [
    "rawData['time_stamp'] = rawData['time_stamp'].apply(tstodt)\n",
    "rawData = rawData.sort_values(by=['time_stamp'])\n",
    "rawData = rawData.reset_index(drop=True)\n",
    "rawData['time_stamp'] = rawData['time_stamp'].dt.date"
   ]
  },
  {
   "cell_type": "code",
   "execution_count": 7,
   "id": "e8002ca8-f002-4835-b0be-2295aec88891",
   "metadata": {},
   "outputs": [
    {
     "name": "stdout",
     "output_type": "stream",
     "text": [
      "<class 'pandas.core.frame.DataFrame'>\n",
      "RangeIndex: 362 entries, 0 to 361\n",
      "Data columns (total 4 columns):\n",
      " #   Column        Non-Null Count  Dtype  \n",
      "---  ------        --------------  -----  \n",
      " 0   time_stamp    362 non-null    object \n",
      " 1   sensor_index  362 non-null    int64  \n",
      " 2   pm2.5_atm     362 non-null    float64\n",
      " 3   pm2.5_cf_1    362 non-null    float64\n",
      "dtypes: float64(2), int64(1), object(1)\n",
      "memory usage: 11.4+ KB\n"
     ]
    }
   ],
   "source": [
    "rawData.info()"
   ]
  },
  {
   "cell_type": "code",
   "execution_count": 9,
   "id": "0be48aea-53b0-4283-83df-91d127e18a61",
   "metadata": {},
   "outputs": [],
   "source": [
    "rawData.to_csv(f'./{sensor_name}_{year}.csv')"
   ]
  },
  {
   "cell_type": "code",
   "execution_count": null,
   "id": "4d03c418-d997-4339-844c-91cc4b4affa8",
   "metadata": {},
   "outputs": [],
   "source": []
  }
 ],
 "metadata": {
  "kernelspec": {
   "display_name": "Python 3 (ipykernel)",
   "language": "python",
   "name": "python3"
  },
  "language_info": {
   "codemirror_mode": {
    "name": "ipython",
    "version": 3
   },
   "file_extension": ".py",
   "mimetype": "text/x-python",
   "name": "python",
   "nbconvert_exporter": "python",
   "pygments_lexer": "ipython3",
   "version": "3.8.13"
  }
 },
 "nbformat": 4,
 "nbformat_minor": 5
}
